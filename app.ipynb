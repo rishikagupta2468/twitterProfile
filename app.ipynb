# import the module
import tweepy
import time
  
#save your keys
consumer_key = "<key>"
consumer_secret = "<key>"
access_token = "<key>"
access_token_secret = "<key>"
  
# authorization
auth = tweepy.OAuthHandler(consumer_key, consumer_secret)
auth.set_access_token(access_token, access_token_secret)

api = tweepy.API(auth)

number = 1  
while True:
    #api call
    api.update_profile_image("profilePictures/profile" + str(number) + ".png")
    if number == 3:
        number = 0
    number+=1
    time.sleep(0.5)  
